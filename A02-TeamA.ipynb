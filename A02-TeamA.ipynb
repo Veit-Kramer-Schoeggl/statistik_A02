{
 "cells": [
  {
   "cell_type": "code",
   "id": "initial_id",
   "metadata": {
    "collapsed": true,
    "ExecuteTime": {
     "end_time": "2025-01-14T11:35:49.845497Z",
     "start_time": "2025-01-14T11:35:49.329028Z"
    }
   },
   "source": [
    "import pickle as pkl\n",
    "with open('feinstaubdataexercise.pickle', 'rb') as file:\n",
    "    graz_db = pkl.load(file)\n",
    "print(graz_db)\n",
    "graz_db[\"Graz-DB\"].head()"
   ],
   "outputs": [
    {
     "name": "stdout",
     "output_type": "stream",
     "text": [
      "{'Graz-DB':                                  day_type   humidity      temp        no2  \\\n",
      "DateTime                                                                    \n",
      "2015-01-01 00:00:00+00:00  Sunday/Holiday  76.086280 -3.114223  55.883530   \n",
      "2015-01-02 00:00:00+00:00         Weekday  84.450230  0.345273  82.513820   \n",
      "2015-01-03 00:00:00+00:00        Saturday  89.667440  1.184227  65.594920   \n",
      "2015-01-04 00:00:00+00:00  Sunday/Holiday  61.433243  3.666447  21.547293   \n",
      "2015-01-05 00:00:00+00:00         Weekday  72.254745  2.146478  40.342360   \n",
      "...                                   ...        ...       ...        ...   \n",
      "2020-12-27 00:00:00+00:00  Sunday/Holiday  80.488220 -2.868204  27.720545   \n",
      "2020-12-28 00:00:00+00:00         Weekday  90.744225 -0.705294  36.626446   \n",
      "2020-12-29 00:00:00+00:00         Weekday  92.967810  1.020848  45.060910   \n",
      "2020-12-30 00:00:00+00:00         Weekday  93.184120  2.721566  41.690440   \n",
      "2020-12-31 00:00:00+00:00         Weekday  89.811880  2.041227  37.488106   \n",
      "\n",
      "                                 pm10      prec  windspeed  peak_velocity  \n",
      "DateTime                                                                   \n",
      "2015-01-01 00:00:00+00:00  113.757540  0.000000   0.285276       1.587069  \n",
      "2015-01-02 00:00:00+00:00   94.340850  0.000000   0.184891       2.116092  \n",
      "2015-01-03 00:00:00+00:00   58.921513  0.000000   0.298194       2.997797  \n",
      "2015-01-04 00:00:00+00:00   19.053576  2.472168   1.427332      13.225575  \n",
      "2015-01-05 00:00:00+00:00   14.491992  0.998253   1.079748       9.698755  \n",
      "...                               ...       ...        ...            ...  \n",
      "2020-12-27 00:00:00+00:00   20.504717  0.100122   0.368047       2.116092  \n",
      "2020-12-28 00:00:00+00:00   22.069237  0.197116   0.319993       2.468774  \n",
      "2020-12-29 00:00:00+00:00   23.214159  0.096993   0.483053       4.496696  \n",
      "2020-12-30 00:00:00+00:00   26.474504  0.096993   0.272950       2.909626  \n",
      "2020-12-31 00:00:00+00:00   23.005661  0.100122   0.351617       2.733285  \n",
      "\n",
      "[2161 rows x 8 columns], 'Kalkleiten':                                  day_type      temp\n",
      "DateTime                                           \n",
      "2015-01-01 00:00:00+00:00  Sunday/Holiday -1.041753\n",
      "2015-01-02 00:00:00+00:00         Weekday  6.614710\n",
      "2015-01-03 00:00:00+00:00        Saturday  1.960446\n",
      "2015-01-04 00:00:00+00:00  Sunday/Holiday  1.130631\n",
      "2015-01-05 00:00:00+00:00         Weekday -0.676658\n",
      "...                                   ...       ...\n",
      "2020-12-27 00:00:00+00:00  Sunday/Holiday -4.491315\n",
      "2020-12-28 00:00:00+00:00         Weekday -2.366601\n",
      "2020-12-29 00:00:00+00:00         Weekday  1.335944\n",
      "2020-12-30 00:00:00+00:00         Weekday  2.011744\n",
      "2020-12-31 00:00:00+00:00         Weekday  1.545290\n",
      "\n",
      "[2192 rows x 2 columns]}\n"
     ]
    },
    {
     "data": {
      "text/plain": [
       "                                 day_type   humidity      temp        no2  \\\n",
       "DateTime                                                                    \n",
       "2015-01-01 00:00:00+00:00  Sunday/Holiday  76.086280 -3.114223  55.883530   \n",
       "2015-01-02 00:00:00+00:00         Weekday  84.450230  0.345273  82.513820   \n",
       "2015-01-03 00:00:00+00:00        Saturday  89.667440  1.184227  65.594920   \n",
       "2015-01-04 00:00:00+00:00  Sunday/Holiday  61.433243  3.666447  21.547293   \n",
       "2015-01-05 00:00:00+00:00         Weekday  72.254745  2.146478  40.342360   \n",
       "\n",
       "                                 pm10      prec  windspeed  peak_velocity  \n",
       "DateTime                                                                   \n",
       "2015-01-01 00:00:00+00:00  113.757540  0.000000   0.285276       1.587069  \n",
       "2015-01-02 00:00:00+00:00   94.340850  0.000000   0.184891       2.116092  \n",
       "2015-01-03 00:00:00+00:00   58.921513  0.000000   0.298194       2.997797  \n",
       "2015-01-04 00:00:00+00:00   19.053576  2.472168   1.427332      13.225575  \n",
       "2015-01-05 00:00:00+00:00   14.491992  0.998253   1.079748       9.698755  "
      ],
      "text/html": [
       "<div>\n",
       "<style scoped>\n",
       "    .dataframe tbody tr th:only-of-type {\n",
       "        vertical-align: middle;\n",
       "    }\n",
       "\n",
       "    .dataframe tbody tr th {\n",
       "        vertical-align: top;\n",
       "    }\n",
       "\n",
       "    .dataframe thead th {\n",
       "        text-align: right;\n",
       "    }\n",
       "</style>\n",
       "<table border=\"1\" class=\"dataframe\">\n",
       "  <thead>\n",
       "    <tr style=\"text-align: right;\">\n",
       "      <th></th>\n",
       "      <th>day_type</th>\n",
       "      <th>humidity</th>\n",
       "      <th>temp</th>\n",
       "      <th>no2</th>\n",
       "      <th>pm10</th>\n",
       "      <th>prec</th>\n",
       "      <th>windspeed</th>\n",
       "      <th>peak_velocity</th>\n",
       "    </tr>\n",
       "    <tr>\n",
       "      <th>DateTime</th>\n",
       "      <th></th>\n",
       "      <th></th>\n",
       "      <th></th>\n",
       "      <th></th>\n",
       "      <th></th>\n",
       "      <th></th>\n",
       "      <th></th>\n",
       "      <th></th>\n",
       "    </tr>\n",
       "  </thead>\n",
       "  <tbody>\n",
       "    <tr>\n",
       "      <th>2015-01-01 00:00:00+00:00</th>\n",
       "      <td>Sunday/Holiday</td>\n",
       "      <td>76.086280</td>\n",
       "      <td>-3.114223</td>\n",
       "      <td>55.883530</td>\n",
       "      <td>113.757540</td>\n",
       "      <td>0.000000</td>\n",
       "      <td>0.285276</td>\n",
       "      <td>1.587069</td>\n",
       "    </tr>\n",
       "    <tr>\n",
       "      <th>2015-01-02 00:00:00+00:00</th>\n",
       "      <td>Weekday</td>\n",
       "      <td>84.450230</td>\n",
       "      <td>0.345273</td>\n",
       "      <td>82.513820</td>\n",
       "      <td>94.340850</td>\n",
       "      <td>0.000000</td>\n",
       "      <td>0.184891</td>\n",
       "      <td>2.116092</td>\n",
       "    </tr>\n",
       "    <tr>\n",
       "      <th>2015-01-03 00:00:00+00:00</th>\n",
       "      <td>Saturday</td>\n",
       "      <td>89.667440</td>\n",
       "      <td>1.184227</td>\n",
       "      <td>65.594920</td>\n",
       "      <td>58.921513</td>\n",
       "      <td>0.000000</td>\n",
       "      <td>0.298194</td>\n",
       "      <td>2.997797</td>\n",
       "    </tr>\n",
       "    <tr>\n",
       "      <th>2015-01-04 00:00:00+00:00</th>\n",
       "      <td>Sunday/Holiday</td>\n",
       "      <td>61.433243</td>\n",
       "      <td>3.666447</td>\n",
       "      <td>21.547293</td>\n",
       "      <td>19.053576</td>\n",
       "      <td>2.472168</td>\n",
       "      <td>1.427332</td>\n",
       "      <td>13.225575</td>\n",
       "    </tr>\n",
       "    <tr>\n",
       "      <th>2015-01-05 00:00:00+00:00</th>\n",
       "      <td>Weekday</td>\n",
       "      <td>72.254745</td>\n",
       "      <td>2.146478</td>\n",
       "      <td>40.342360</td>\n",
       "      <td>14.491992</td>\n",
       "      <td>0.998253</td>\n",
       "      <td>1.079748</td>\n",
       "      <td>9.698755</td>\n",
       "    </tr>\n",
       "  </tbody>\n",
       "</table>\n",
       "</div>"
      ]
     },
     "execution_count": 1,
     "metadata": {},
     "output_type": "execute_result"
    }
   ],
   "execution_count": 1
  },
  {
   "metadata": {
    "ExecuteTime": {
     "end_time": "2025-01-14T11:37:40.336385Z",
     "start_time": "2025-01-14T11:37:40.311320Z"
    }
   },
   "cell_type": "code",
   "source": [
    "filtered_data = graz_db['2015-01-01':'2019-12-31']\n",
    "\n",
    "# Anzeige der ersten Zeilen der gefilterten Daten\n",
    "print(filtered_data.head())"
   ],
   "id": "fe23928bc1ab9522",
   "outputs": [
    {
     "ename": "KeyError",
     "evalue": "slice('2015-01-01', '2019-12-31', None)",
     "output_type": "error",
     "traceback": [
      "\u001B[1;31m---------------------------------------------------------------------------\u001B[0m",
      "\u001B[1;31mKeyError\u001B[0m                                  Traceback (most recent call last)",
      "Cell \u001B[1;32mIn[3], line 1\u001B[0m\n\u001B[1;32m----> 1\u001B[0m filtered_data \u001B[38;5;241m=\u001B[39m \u001B[43mgraz_db\u001B[49m\u001B[43m[\u001B[49m\u001B[38;5;124;43m'\u001B[39;49m\u001B[38;5;124;43m2015-01-01\u001B[39;49m\u001B[38;5;124;43m'\u001B[39;49m\u001B[43m:\u001B[49m\u001B[38;5;124;43m'\u001B[39;49m\u001B[38;5;124;43m2019-12-31\u001B[39;49m\u001B[38;5;124;43m'\u001B[39;49m\u001B[43m]\u001B[49m\n\u001B[0;32m      3\u001B[0m \u001B[38;5;66;03m# Anzeige der ersten Zeilen der gefilterten Daten\u001B[39;00m\n\u001B[0;32m      4\u001B[0m \u001B[38;5;28mprint\u001B[39m(filtered_data\u001B[38;5;241m.\u001B[39mhead())\n",
      "\u001B[1;31mKeyError\u001B[0m: slice('2015-01-01', '2019-12-31', None)"
     ]
    }
   ],
   "execution_count": 3
  }
 ],
 "metadata": {
  "kernelspec": {
   "display_name": "Python 3",
   "language": "python",
   "name": "python3"
  },
  "language_info": {
   "codemirror_mode": {
    "name": "ipython",
    "version": 2
   },
   "file_extension": ".py",
   "mimetype": "text/x-python",
   "name": "python",
   "nbconvert_exporter": "python",
   "pygments_lexer": "ipython2",
   "version": "2.7.6"
  }
 },
 "nbformat": 4,
 "nbformat_minor": 5
}
